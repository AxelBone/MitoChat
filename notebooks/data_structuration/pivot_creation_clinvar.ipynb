{
 "cells": [
  {
   "cell_type": "markdown",
   "id": "1139c439",
   "metadata": {},
   "source": [
    "### Traitement du fichier clinvar"
   ]
  },
  {
   "cell_type": "code",
   "execution_count": 2,
   "id": "8e91cfce",
   "metadata": {},
   "outputs": [],
   "source": [
    "import pandas as pd\n",
    "import gzip\n",
    "\n",
    "vcf_file = \"../data/public_db/clinvar/clinvar_20250915.vcf.gz\""
   ]
  },
  {
   "cell_type": "markdown",
   "id": "443e4bea",
   "metadata": {},
   "source": [
    "### Chargement du fichier VCF et extraction du header"
   ]
  },
  {
   "cell_type": "code",
   "execution_count": 3,
   "id": "9969574f",
   "metadata": {},
   "outputs": [],
   "source": [
    "def get_vcf_names(vcf_path):\n",
    "    with gzip.open(vcf_path, \"rt\") as ifile:\n",
    "        for line in ifile:\n",
    "            if line.startswith(\"#CHROM\"):\n",
    "                vcf_names = line.strip().lstrip(\"#\").split(\"\\t\")\n",
    "                break\n",
    "    return vcf_names\n",
    "\n",
    "names = get_vcf_names(vcf_file)"
   ]
  },
  {
   "cell_type": "markdown",
   "id": "dbdc998b",
   "metadata": {},
   "source": [
    "### Lire le VCF avec pandas"
   ]
  },
  {
   "cell_type": "code",
   "execution_count": 4,
   "metadata": {},
   "outputs": [
    {
     "name": "stderr",
     "output_type": "stream",
     "text": [
      "/var/folders/6n/hw7c94m14pn9syslmn86py080000gq/T/ipykernel_7324/2647183103.py:1: FutureWarning: The 'delim_whitespace' keyword in pd.read_csv is deprecated and will be removed in a future version. Use ``sep='\\s+'`` instead\n",
      "  vcf_chunks = pd.read_csv(\n"
     ]
    }
   ],
   "source": [
    "vcf_chunks = pd.read_csv(\n",
    "    vcf_file,\n",
    "    comment='#',\n",
    "    chunksize=10000,\n",
    "    delim_whitespace=True,\n",
    "    header=None,\n",
    "    names=names,\n",
    "    dtype=str\n",
    ")"
   ]
  },
  {
   "cell_type": "markdown",
   "id": "b6e6d23f",
   "metadata": {},
   "source": [
    "### Parser le champ INFO"
   ]
  },
  {
   "cell_type": "code",
   "execution_count": 15,
   "id": "c6ff4439",
   "metadata": {},
   "outputs": [],
   "source": [
    "import re\n",
    "\n",
    "def parse_info(info_str):\n",
    "    \"\"\"\n",
    "    Transforme le champ INFO d'un VCF en dictionnaire clé=valeur.\n",
    "    Ne suppose pas de clés fixes, récupère tout.\n",
    "    \"\"\"\n",
    "    info_dict = {}\n",
    "    if pd.isna(info_str):\n",
    "        return info_dict\n",
    "    items = info_str.split(';')\n",
    "    for item in items:\n",
    "        if '=' in item:\n",
    "            key, value = item.split('=', 1)\n",
    "            info_dict[key] = value\n",
    "    return info_dict\n"
   ]
  },
  {
   "cell_type": "markdown",
   "id": "68b28787",
   "metadata": {},
   "source": [
    "### Chargement des gènes mitochondriaux"
   ]
  },
  {
   "cell_type": "code",
   "execution_count": 12,
   "id": "90e9c543",
   "metadata": {},
   "outputs": [
    {
     "name": "stdout",
     "output_type": "stream",
     "text": [
      "Nombre de gènes mitochondriaux : 1136\n",
      "{'125228', '572', '3029', '27429', '55288', '57546', '4537', '55177', '740', '79736', '11315', '54543', '55486', '1350', '57380', '116228', '124995', '4707', '63899', '4191', '63875', '9489', '81894', '93974', '5071', '54704', '201229', '6697', '55335', '4535', '1738', '54949', '51106', '513', '1757', '127018', '123263', '246243', '137682', '113675', '284184', '58510', '138428', '8225', '4508', '328', '790955', '64968', '4726', '51117', '10452', '50', '200205', '10247', '60528', '217', '84273', '5625', '2168', '8846', '8799', '29093', '7351', '57486', '9167', '6576', '4719', '10573', '51258', '56267', '94081', '132001', '57226', '6770', '26235', '6391', '56997', '1841', '4731', '4595', '91942', '203054', '79783', '6821', '874', '80024', '708', '81889', '26517', '134266', '31', '4358', '10463', '7374', '51022', '4713', '204', '219', '4715', '8402', '4709', '29090', '92106', '55101', '51031', '5162', '25902', '2110', '27089', '79671', '63929', '201626', '597', '4722', '3052', '30', '5161', '4710', '847', '1891', '83693', '3336', '284486', '399512', '638', '51067', '5019', '1352', '5498', '115416', '56994', '54920', '1407', '55687', '36', '1351', '160428', '2639', '10240', '80324', '9941', '51025', '11019', '706', '28992', '118487', '54470', '9588', '6296', '10730', '64981', '38', '166785', '4536', '10440', '283130', '54205', '6183', '167681', '7417', '26520', '90550', '25996', '93058', '57176', '728294', '65018', '10721', '197322', '23464', '84895', '27044', '131076', '51116', '8209', '10166', '57665', '10165', '28958', '7352', '5009', '2224', '135114', '9804', '160760', '80303', '7385', '80207', '514', '64951', '55669', '56922', '5264', '94033', '3712', '51166', '80298', '56616', '2040', '55471', '147407', '47', '26995', '7978', '293', '6687', '51004', '51056', '90806', '116285', '2936', '2230', '25994', '11194', '4724', '5096', '4723', '6648', '54931', '27068', '55268', '728489', '100131801', '10588', '4257', '253512', '80724', '25934', '6647', '64216', '81892', '7384', '3028', '345778', '55005', '79896', '126129', '10105', '100996939', '3032', '11331', '203427', '53343', '10531', '1375', '539', '51263', '53917', '133957', '5164', '253190', '23530', '50865', '50808', '54943', '285315', '79922', '33', '64963', '51027', '55168', '9997', '3954', '4708', '1584', '8165', '83943', '137994', '92014', '80224', '2194', '5414', '83787', '9581', '4513', '5832', '1537', '6150', '26355', '152926', '1349', '10939', '9342', '1339', '390916', '2987', '212', '84263', '285343', '9512', '3420', '10632', '170712', '5188', '284273', '10884', '2647', '132299', '56652', '10922', '221545', '54938', '55967', '54940', '1666', '10935', '8802', '3329', '246269', '578', '90871', '57143', '89874', '51537', '5366', '10131', '2744', '3421', '54471', '318', '9481', '26073', '57149', '57048', '4259', '84947', '284439', '1632', '2876', '373156', '85865', '84908', '4697', '79675', '23305', '139341', '3945', '23787', '5138', '3422', '27034', '84334', '9650', '23597', '6341', '4541', '18', '112812', '51300', '3033', '506', '2109', '4705', '7001', '51103', '10989', '80775', '150209', '2954', '55245', '84769', '112817', '10058', '9131', '10965', '51657', '196074', '55157', '23107', '83858', '124454', '7156', '10350', '51205', '25953', '10587', '83733', '122961', '84706', '64943', '4729', '11022', '84545', '1962', '51318', '27166', '414919', '100188893', '55794', '84749', '841', '84902', '80219', '65990', '9517', '51079', '10128', '55217', '132158', '51081', '84681', '26515', '10249', '54708', '51650', '26521', '60558', '7818', '54998', '4696', '100287932', '60681', '4482', '55074', '80222', '388753', '126789', '51295', '91137', '64083', '54539', '84293', '64949', '80309', '10018', '51373', '548596', '92259', '81554', '92399', '84233', '518', '4942', '129607', '4832', '51654', '80179', '79877', '57038', '26284', '4329', '10017', '670', '51660', '1622', '116151', '751071', '7263', '637', '56948', '10449', '5165', '3030', '6390', '64928', '384', '118980', '60493', '1376', '115286', '23456', '51110', '84303', '254013', '54460', '2235', '25813', '137872', '81932', '101928527', '2356', '54677', '5106', '501', '51601', '125170', '140823', '25824', '205327', '125965', '8508', '54948', '55210', '129807', '100526740', '3155', '11264', '4702', '326625', '64978', '4337', '92609', '84705', '10455', '50640', '84134', '2617', '1737', '79944', '63933', '9927', '4706', '4285', '23078', '197257', '515', '4817', '1854', '1727', '79135', '10245', '4357', '55347', '90580', '581', '83451', '79590', '84105', '29796', '55326', '29103', '123876', '57506', '54802', '22934', '84532', '10606', '23788', '100303755', '29960', '81034', '5250', '64983', '10975', '57570', '84275', '113115', '254042', '84419', '55863', '219927', '215', '57017', '10059', '11162', '763', '84269', '3094', '90639', '60488', '5245', '622', '57678', '55753', '94097', '10352', '118881', '54974', '90624', '51642', '222234', '23600', '64863', '221154', '64965', '400916', '6342', '5095', '5091', '284427', '4129', '6182', '90480', '65005', '84693', '284723', '54977', '2806', '26589', '292', '144363', '51264', '9238', '4976', '4968', '283951', '5442', '84680', '79594', '34', '116540', '599', '81855', '10553', '11222', '84896', '80777', '51204', '4519', '284106', '8034', '9556', '51179', '25880', '84274', '22921', '402', '140886', '79587', '275', '54995', '4704', '4701', '54675', '2879', '1760', '55013', '4695', '55847', '10229', '126328', '130916', '387990', '3418', '84833', '596', '25874', '644096', '23590', '8604', '2631', '79731', '10797', '401207', '57016', '25821', '51250', '2495', '79133', '7923', '1374', '29920', '80221', '84881', '7386', '84869', '64847', '253827', '55163', '192286', '211', '1593', '8192', '65008', '80347', '54516', '55969', '5831', 'ENSG00000230623', '55218', '57150', '55750', '387338', '64432', '2746', '6472', '135154', '27113', '11216', '1384', '84340', '6389', '117145', '9361', '2820', '78988', '64146', '91574', '594', '57001', '283600', '1678', '339229', '79763', '1159', '388962', '56945', '1585', '84816', '114789', '65993', '56910', '35', '133686', '64745', '65991', '91647', '100272147', '1892', '6742', '1340', '4594', '79979', '285521', '56907', '4913', '51499', '54902', '10202', '1347', '441024', '664', '60314', '549', '1353', '10873', '2021', '23479', '9551', '3338', '29088', '79751', '27109', '348158', '56954', '55178', '23410', '7019', '23408', '80142', '4718', '64087', '79693', '125988', '79810', '79814', '10201', '55333', '225', '5163', '1346', '30968', '84277', '79680', '5423', '55052', '26275', '1716', '55744', '291', '84701', '4728', '4580', '57128', '79934', '9377', '22', '25973', '493753', '224', '55848', '23761', '1429', '3295', '64064', '55066', '10840', '79863', '4200', '10650', '29081', '28977', '9553', '115817', '4700', '3158', '339983', '54148', '64960', '55006', '10434', '79611', '201973', '4720', '122704', '10157', '5825', '81570', '26519', '23770', '55149', '283377', '11232', '109703458', '85476', '4128', '1468', '9093', '6392', '79072', '81890', '51024', '8050', '25828', '842', '80025', '5827', '131474', '10367', '128240', '51012', '23438', '22868', '55572', '349565', '10651', '10768', '55811', '60491', '509', '9463', '4714', '55526', '92170', '9617', '90956', '10549', '25979', '23474', '5018', '27247', '4538', '8801', '64969', '27165', '3980', '27069', '64976', '4540', '3419', '2747', '55862', '4077', '100131187', '153768', '9380', '57129', '2731', '401505', '730249', '51069', '23409', '223', '51253', '27440', '666', '10953', '10102', '51312', '498', '219938', '65080', '5428', '84842', '79568', '8803', '2628', '116447', '119559', '84987', '9823', '27235', '116541', '54968', '92483', '9692', '836', '4698', '4833', '7419', '55037', '80308', '65003', '10476', '79714', '7284', '64172', '91419', '157378', '374882', '64902', '54059', '8834', '4528', '285367', '55349', '10295', '11212', '51649', '25875', '29928', '389203', '29078', '1763', '1327', '123096', '150763', '374986', '1594', '28976', '7350', '7416', '54534', '1583', '37', '51001', '593', '150274', '1373', '56993', '10667', '51181', '598', '133383', '112724', '28957', '25819', '1345', '8564', '64979', '9054', '154791', '51409', '83642', '84300', '22907', '92667', '4539', '91689', '9812', '3735', '54996', '51095', '3313', '10901', '4694', '11332', '51011', '1629', '521', '587', '255027', '80017', '2671', '79085', '55316', '28998', '55186', '4725', '7915', '55173', '55278', '80119', '9801', '9673', '11238', '28973', '56953', '1329', '80273', '4898', '4512', '54927', '8574', '11112', '81689', '6832', '7084', '55735', '29957', '4717', '87178', '1371', '51115', '131118', '51566', '192111', '114971', '1355', '1312', '23203', '25915', '2926', '83875', '2271', '84266', '55621', '3429', '4716', '58472', '5166', '51651', '55187', '6901', '51241', '2272', '171425', '84311', '8659', '51287', '55014', '56181', '55739', '152100', '51021', '7381', '115209', '5566', '51102', '51023', '57505', '51142', '153328', '440574', '114876', '522', '10063', '23395', '23417', '51629', '162417', '51805', '84129', '9868', '27249', '9016', '341392', '10469', '205', '341947', '2108', '4712', '2653', '283459', '7388', '51218', '516', '51335', '2053', '189', '55260', '254552', '51522', '134145', '4514', '29074', '4170', '347411', '1723', '83447', '27349', '55856', '286097', '5860', '11164', '55972', '9401', '89941', '788', '401612', '79746', '139322', '617', '26024', '219402', '57107', '56947', '100130890', '64975', '64756', '387787', '26164', '114294', '54332', '5160', '665', '56895', '1337', '84331', '51559', '4509', '64757', '1160', '10845', '60386', '29958', '517', '32', '401250', '55699', '56848', '54888', '201164', '128308', '51309', '56942', '79828', '374291', '60492', '79145', '2180', '65260', '25961', '1431', '7296', '3396', '1591', '92935', '3416', '6834', '4711', '381', '55312', '54988', '145853', '1743', '2395', '26027', '23786', '196294', '84709', '63931', '84883', '4967', '51073', '2232'}\n"
     ]
    }
   ],
   "source": [
    "import json\n",
    "\n",
    "json_path = \"../data/pivot_output/mitocarta_pivot_full.json\"\n",
    "with open(json_path, \"r\", encoding=\"utf8\") as f:\n",
    "    mitocarta_pivot = json.load(f)\n",
    "\n",
    "# Récupérer tous les HumanGeneID\n",
    "mito_hgnc_ids = set(mitocarta_pivot.keys())\n",
    "print(\"Nombre de gènes mitochondriaux :\", len(mito_hgnc_ids))\n",
    "print(mito_hgnc_ids)"
   ]
  },
  {
   "cell_type": "markdown",
   "id": "551ac496",
   "metadata": {},
   "source": [
    "### Extraire les champs clés et filtrer mitochondriaux"
   ]
  },
  {
   "cell_type": "code",
   "execution_count": 7,
   "id": "93e3ad22",
   "metadata": {},
   "outputs": [
    {
     "name": "stdout",
     "output_type": "stream",
     "text": [
      "Colonnes du chunk : ['CHROM', 'POS', 'ID', 'REF', 'ALT', 'QUAL', 'FILTER', 'INFO']\n",
      "Aperçu des premières lignes :\n",
      "  CHROM    POS       ID REF ALT QUAL FILTER  \\\n",
      "0     1  66926  3385321  AG   A    .      .   \n",
      "1     1  69134  2205837   A   G    .      .   \n",
      "2     1  69308  3925305   A   G    .      .   \n",
      "3     1  69314  3205580   T   G    .      .   \n",
      "4     1  69404  3925306   T   C    .      .   \n",
      "\n",
      "                                                INFO  \n",
      "0  ALLELEID=3544463;CLNDISDB=Human_Phenotype_Onto...  \n",
      "1  ALLELEID=2193183;CLNDISDB=MedGen:CN169374;CLND...  \n",
      "2  ALLELEID=4039319;CLNDISDB=MedGen:CN169374;CLND...  \n",
      "3  ALLELEID=3374047;CLNDISDB=MedGen:CN169374;CLND...  \n",
      "4  ALLELEID=4039320;CLNDISDB=MedGen:CN169374;CLND...  \n"
     ]
    }
   ],
   "source": [
    "first_chunk = next(vcf_chunks)\n",
    "print(\"Colonnes du chunk :\", first_chunk.columns.tolist())\n",
    "print(\"Aperçu des premières lignes :\")\n",
    "print(first_chunk.head())"
   ]
  },
  {
   "cell_type": "code",
   "execution_count": 14,
   "id": "7ae881cf",
   "metadata": {},
   "outputs": [
    {
     "name": "stdout",
     "output_type": "stream",
     "text": [
      "Exemples de champ INFO :\n",
      "['ALLELEID=3544463;CLNDISDB=Human_Phenotype_Ontology:HP:0000547,MONDO:MONDO:0019200,MeSH:D012174,MedGen:C0035334,OMIM:268000,OMIM:PS268000,Orphanet:791;CLNDN=Retinitis_pigmentosa;CLNHGVS=NC_000001.11:g.66927del;CLNREVSTAT=criteria_provided,_single_submitter;CLNSIG=Uncertain_significance;CLNSIGSCV=SCV005419006;CLNVC=Deletion;CLNVCSO=SO:0000159;GENEINFO=OR4F5:79501;MC=SO:0001627|intron_variant;ORIGIN=0', 'ALLELEID=2193183;CLNDISDB=MedGen:CN169374;CLNDN=not_specified;CLNHGVS=NC_000001.11:g.69134A>G;CLNREVSTAT=criteria_provided,_single_submitter;CLNSIG=Likely_benign;CLNSIGSCV=SCV003526545;CLNVC=single_nucleotide_variant;CLNVCSO=SO:0001483;CLNVI=ClinGen:CA502008;GENEINFO=OR4F5:79501;MC=SO:0001583|missense_variant;ORIGIN=1;RS=781394307', 'ALLELEID=4039319;CLNDISDB=MedGen:CN169374;CLNDN=not_specified;CLNHGVS=NC_000001.11:g.69308A>G;CLNREVSTAT=criteria_provided,_single_submitter;CLNSIG=Uncertain_significance;CLNSIGSCV=SCV006120601;CLNVC=single_nucleotide_variant;CLNVCSO=SO:0001483;GENEINFO=OR4F5:79501;MC=SO:0001583|missense_variant;ORIGIN=1', 'ALLELEID=3374047;CLNDISDB=MedGen:CN169374;CLNDN=not_specified;CLNHGVS=NC_000001.11:g.69314T>G;CLNREVSTAT=criteria_provided,_single_submitter;CLNSIG=Uncertain_significance;CLNSIGSCV=SCV004995495;CLNVC=single_nucleotide_variant;CLNVCSO=SO:0001483;CLNVI=ClinGen:CA338197388;GENEINFO=OR4F5:79501;MC=SO:0001583|missense_variant;ORIGIN=1;RS=2521653848', 'ALLELEID=4039320;CLNDISDB=MedGen:CN169374;CLNDN=not_specified;CLNHGVS=NC_000001.11:g.69404T>C;CLNREVSTAT=criteria_provided,_single_submitter;CLNSIG=Uncertain_significance;CLNSIGSCV=SCV006120602;CLNVC=single_nucleotide_variant;CLNVCSO=SO:0001483;GENEINFO=OR4F5:79501;MC=SO:0001583|missense_variant;ORIGIN=1', 'ALLELEID=3374048;CLNDISDB=MedGen:CN169374;CLNDN=not_specified;CLNHGVS=NC_000001.11:g.69423G>A;CLNREVSTAT=criteria_provided,_single_submitter;CLNSIG=Uncertain_significance;CLNSIGSCV=SCV004995496;CLNVC=single_nucleotide_variant;CLNVCSO=SO:0001483;CLNVI=ClinGen:CA338197763;GENEINFO=OR4F5:79501;MC=SO:0001583|missense_variant;ORIGIN=1;RS=2521654033', 'ALLELEID=2238986;CLNDISDB=MedGen:CN169374;CLNDN=not_specified;CLNHGVS=NC_000001.11:g.69581C>G;CLNREVSTAT=criteria_provided,_single_submitter;CLNSIG=Uncertain_significance;CLNSIGSCV=SCV003584698;CLNVC=single_nucleotide_variant;CLNVCSO=SO:0001483;CLNVI=ClinGen:CA338198277;GENEINFO=OR4F5:79501;MC=SO:0001583|missense_variant;ORIGIN=1;RS=1570409925', 'AF_EXAC=0.00007;ALLELEID=2386655;CLNDISDB=MedGen:CN169374;CLNDN=not_specified;CLNHGVS=NC_000001.11:g.69682G>A;CLNREVSTAT=criteria_provided,_single_submitter;CLNSIG=Uncertain_significance;CLNSIGSCV=SCV003739621;CLNVC=single_nucleotide_variant;CLNVCSO=SO:0001483;CLNVI=ClinGen:CA502063;GENEINFO=OR4F5:79501;MC=SO:0001583|missense_variant;ORIGIN=1;RS=766444643', 'ALLELEID=3374049;CLNDISDB=MedGen:CN169374;CLNDN=not_specified;CLNHGVS=NC_000001.11:g.69731T>C;CLNREVSTAT=criteria_provided,_single_submitter;CLNSIG=Uncertain_significance;CLNSIGSCV=SCV004995497;CLNVC=single_nucleotide_variant;CLNVCSO=SO:0001483;CLNVI=ClinGen:CA338198606;GENEINFO=OR4F5:79501;MC=SO:0001583|missense_variant;ORIGIN=1;RS=1224500596', 'ALLELEID=2278803;CLNDISDB=MedGen:CN169374;CLNDN=not_specified;CLNHGVS=NC_000001.11:g.69769T>C;CLNREVSTAT=criteria_provided,_single_submitter;CLNSIG=Uncertain_significance;CLNSIGSCV=SCV003620560;CLNVC=single_nucleotide_variant;CLNVCSO=SO:0001483;CLNVI=ClinGen:CA338198691;GENEINFO=OR4F5:79501;MC=SO:0001583|missense_variant;ORIGIN=1;RS=2521655946']\n",
      "Items séparés : ['ALLELEID=3544463', 'CLNDISDB=Human_Phenotype_Ontology:HP:0000547,MONDO:MONDO:0019200,MeSH:D012174,MedGen:C0035334,OMIM:268000,OMIM:PS268000,Orphanet:791', 'CLNDN=Retinitis_pigmentosa', 'CLNHGVS=NC_000001.11:g.66927del', 'CLNREVSTAT=criteria_provided,_single_submitter', 'CLNSIG=Uncertain_significance', 'CLNSIGSCV=SCV005419006', 'CLNVC=Deletion', 'CLNVCSO=SO:0000159', 'GENEINFO=OR4F5:79501', 'MC=SO:0001627|intron_variant', 'ORIGIN=0']\n",
      "Dictionnaire INFO : {'ALLELEID': '3544463', 'CLNDISDB': 'Human_Phenotype_Ontology:HP:0000547,MONDO:MONDO:0019200,MeSH:D012174,MedGen:C0035334,OMIM:268000,OMIM:PS268000,Orphanet:791', 'CLNDN': 'Retinitis_pigmentosa', 'CLNHGVS': 'NC_000001.11:g.66927del', 'CLNREVSTAT': 'criteria_provided,_single_submitter', 'CLNSIG': 'Uncertain_significance', 'CLNSIGSCV': 'SCV005419006', 'CLNVC': 'Deletion', 'CLNVCSO': 'SO:0000159', 'GENEINFO': 'OR4F5:79501', 'MC': 'SO:0001627|intron_variant', 'ORIGIN': '0'}\n"
     ]
    }
   ],
   "source": [
    "print(\"Exemples de champ INFO :\")\n",
    "print(first_chunk['INFO'].head(10).tolist())\n",
    "\n",
    "info_str = first_chunk[\"INFO\"].iloc[0]\n",
    "\n",
    "items = info_str.split(';')\n",
    "print(\"Items séparés :\", items)\n",
    "\n",
    "\n",
    "info_dict = {}\n",
    "for item in items:\n",
    "    if '=' in item:\n",
    "        key, value = item.split('=', 1)\n",
    "        info_dict[key] = value\n",
    "\n",
    "print(\"Dictionnaire INFO :\", info_dict)\n"
   ]
  },
  {
   "cell_type": "markdown",
   "id": "836982e5",
   "metadata": {},
   "source": [
    "### Decoupe et filtrage des gènes mitochondriaux\n",
    "\n",
    "Etape très lente"
   ]
  },
  {
   "cell_type": "code",
   "execution_count": 16,
   "id": "463d2283",
   "metadata": {},
   "outputs": [],
   "source": [
    "clinvar_mito_records = {}\n",
    "\n",
    "for chunk in vcf_chunks:  # vcf_chunks : iterator pandas avec chunksize\n",
    "    # parser INFO\n",
    "    chunk['info_dict'] = chunk['INFO'].apply(parse_info)\n",
    "    \n",
    "    # Extraire gene_symbol et gene_id depuis GENEINFO\n",
    "    def extract_geneinfo(info):\n",
    "        geneinfo = info.get('GENEINFO', None)\n",
    "        if geneinfo:\n",
    "            parts = geneinfo.split(':')\n",
    "            symbol = parts[0]\n",
    "            gene_id = parts[1] if len(parts) > 1 else None\n",
    "            return pd.Series([symbol, gene_id])\n",
    "        else:\n",
    "            return pd.Series([None, None])\n",
    "    \n",
    "    chunk[['gene_symbol', 'gene_id']] = chunk['info_dict'].apply(extract_geneinfo)\n",
    "    \n",
    "    # Filtrer uniquement variants mitochondriaux sur gene_id\n",
    "    chunk_mito = chunk[chunk['gene_id'].isin(mito_hgnc_ids)]"
   ]
  },
  {
   "cell_type": "code",
   "execution_count": 18,
   "id": "794e7cb6",
   "metadata": {},
   "outputs": [
    {
     "name": "stdout",
     "output_type": "stream",
     "text": [
      "        CHROM        POS       ID REF ALT QUAL FILTER  \\\n",
      "3680435     X  155026961  2276085   C   A    .      .   \n",
      "3680436     X  155026975  2496211   G   A    .      .   \n",
      "3680437     X  155026993  2352260   C   T    .      .   \n",
      "3680438     X  155027003  3517726   C   G    .      .   \n",
      "3680439     X  155027008  3852109   C   G    .      .   \n",
      "...       ...        ...      ...  ..  ..  ...    ...   \n",
      "3683832    MT      15884   252455   G   C    .      .   \n",
      "3683833    MT      15885   693973   C   T    .      .   \n",
      "3683917    MT      16230  1525975   A   G    .      .   \n",
      "3683918    MT      16274  1525974   G   A    .      .   \n",
      "3683919    MT      16319  1526264   G   A    .      .   \n",
      "\n",
      "                                                      INFO  \\\n",
      "3680435  AF_EXAC=0.00010;ALLELEID=2265907;CLNDISDB=MedG...   \n",
      "3680436  ALLELEID=2469986;CLNDISDB=MedGen:CN169374;CLND...   \n",
      "3680437  ALLELEID=2340246;CLNDISDB=MedGen:CN169374;CLND...   \n",
      "3680438  ALLELEID=3676721;CLNDISDB=MedGen:CN169374;CLND...   \n",
      "3680439  ALLELEID=3966722;CLNDISDB=MedGen:CN169374;CLND...   \n",
      "...                                                    ...   \n",
      "3683832  ALLELEID=247210;CLNDISDB=MedGen:CN169374|MONDO...   \n",
      "3683833  ALLELEID=680863;CLNDISDB=MONDO:MONDO:0009723,M...   \n",
      "3683917  ALLELEID=1517319;CLNDISDB=MONDO:MONDO:0010790,...   \n",
      "3683918  ALLELEID=1517318;CLNDISDB=MONDO:MONDO:0010790,...   \n",
      "3683919  ALLELEID=1517668;CLNDISDB=MONDO:MONDO:0010790,...   \n",
      "\n",
      "                                                 info_dict gene_symbol gene_id  \n",
      "3680435  {'AF_EXAC': '0.00010', 'ALLELEID': '2265907', ...      FUNDC2   65991  \n",
      "3680436  {'ALLELEID': '2469986', 'CLNDISDB': 'MedGen:CN...      FUNDC2   65991  \n",
      "3680437  {'ALLELEID': '2340246', 'CLNDISDB': 'MedGen:CN...      FUNDC2   65991  \n",
      "3680438  {'ALLELEID': '3676721', 'CLNDISDB': 'MedGen:CN...      FUNDC2   65991  \n",
      "3680439  {'ALLELEID': '3966722', 'CLNDISDB': 'MedGen:CN...      FUNDC2   65991  \n",
      "...                                                    ...         ...     ...  \n",
      "3683832  {'ALLELEID': '247210', 'CLNDISDB': 'MedGen:CN1...      MT-CYB    4519  \n",
      "3683833  {'ALLELEID': '680863', 'CLNDISDB': 'MONDO:MOND...      MT-CYB    4519  \n",
      "3683917  {'ALLELEID': '1517319', 'CLNDISDB': 'MONDO:MON...      MT-CYB    4519  \n",
      "3683918  {'ALLELEID': '1517318', 'CLNDISDB': 'MONDO:MON...      MT-CYB    4519  \n",
      "3683919  {'ALLELEID': '1517668', 'CLNDISDB': 'MONDO:MON...      MT-CYB    4519  \n",
      "\n",
      "[2348 rows x 11 columns]\n"
     ]
    }
   ],
   "source": [
    "print(chunk_mito)"
   ]
  },
  {
   "cell_type": "markdown",
   "id": "3d530c7b",
   "metadata": {},
   "source": [
    "### Créaation du record"
   ]
  },
  {
   "cell_type": "code",
   "execution_count": 19,
   "id": "7d7dd8bf",
   "metadata": {},
   "outputs": [
    {
     "name": "stdout",
     "output_type": "stream",
     "text": [
      "Nombre total de variants mitochondriaux : 2348\n"
     ]
    }
   ],
   "source": [
    "# Créer les records\n",
    "for _, row in chunk_mito.iterrows():\n",
    "    variant_id = f\"{row['CHROM']}:{row['POS']}:{row['REF']}:{row['ALT']}\"\n",
    "    record = {\n",
    "        \"variant_id\": variant_id,\n",
    "        \"gene_id\": row['gene_id'],\n",
    "        \"gene_symbol\": row['gene_symbol'],\n",
    "        \"chromosome\": row['CHROM'],\n",
    "        \"position\": row['POS'],\n",
    "        \"ref\": row['REF'],\n",
    "        \"alt\": row['ALT'],\n",
    "        \"info\": row['info_dict'],            # toutes les clés INFO\n",
    "        \"clinical_significance\": row['info_dict'].get('CLNSIG', None),\n",
    "        \"disease_name\": row['info_dict'].get('CLNDN', None),\n",
    "        \"rsid\": row['info_dict'].get('RS', None)\n",
    "    }\n",
    "    clinvar_mito_records[variant_id] = record\n",
    "\n",
    "print(\"Nombre total de variants mitochondriaux :\", len(clinvar_mito_records))"
   ]
  },
  {
   "cell_type": "code",
   "execution_count": 21,
   "id": "6bf9f87f",
   "metadata": {},
   "outputs": [
    {
     "name": "stdout",
     "output_type": "stream",
     "text": [
      "Fichier JSON sauvegardé : ../data/pivot_output/clinvar_mito_records.json\n",
      "Fichier JSONL sauvegardé : ../data/pivot_output/clinvar_mito_records.jsonl\n"
     ]
    }
   ],
   "source": [
    "import json\n",
    "\n",
    "# Chemin de sortie\n",
    "json_file = \"../data/pivot_output/clinvar_mito_records.json\"\n",
    "jsonl_file = \"../data/pivot_output/clinvar_mito_records.jsonl\"\n",
    "\n",
    "# 1️⃣ Sauvegarde en JSON classique\n",
    "with open(json_file, \"w\", encoding=\"utf-8\") as f:\n",
    "    json.dump(clinvar_mito_records, f, ensure_ascii=False, indent=2)\n",
    "\n",
    "print(\"Fichier JSON sauvegardé :\", json_file)\n",
    "\n",
    "# 2️⃣ Sauvegarde en JSONL\n",
    "with open(jsonl_file, \"w\", encoding=\"utf-8\") as f:\n",
    "    for record in clinvar_mito_records.values():\n",
    "        f.write(json.dumps(record, ensure_ascii=False) + \"\\n\")\n",
    "\n",
    "print(\"Fichier JSONL sauvegardé :\", jsonl_file)\n"
   ]
  }
 ],
 "metadata": {
  "kernelspec": {
   "display_name": "cluster_analysis",
   "language": "python",
   "name": "python3"
  },
  "language_info": {
   "codemirror_mode": {
    "name": "ipython",
    "version": 3
   },
   "file_extension": ".py",
   "mimetype": "text/x-python",
   "name": "python",
   "nbconvert_exporter": "python",
   "pygments_lexer": "ipython3",
   "version": "3.12.0"
  }
 },
 "nbformat": 4,
 "nbformat_minor": 5
}
