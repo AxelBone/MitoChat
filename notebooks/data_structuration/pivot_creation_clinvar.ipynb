{
 "cells": [
  {
   "cell_type": "markdown",
   "id": "1139c439",
   "metadata": {},
   "source": [
    "### Traitement du fichier clinvar"
   ]
  },
  {
   "cell_type": "code",
   "execution_count": 3,
   "id": "8e91cfce",
   "metadata": {},
   "outputs": [],
   "source": [
    "import pandas as pd\n",
    "import gzip\n",
    "\n",
    "vcf_file = \"../../data/public_db/clinvar/clinvar_20250915.vcf.gz\""
   ]
  },
  {
   "cell_type": "markdown",
   "id": "443e4bea",
   "metadata": {},
   "source": [
    "### Chargement du fichier VCF et extraction du header"
   ]
  },
  {
   "cell_type": "code",
   "execution_count": 4,
   "id": "9969574f",
   "metadata": {},
   "outputs": [],
   "source": [
    "def get_vcf_names(vcf_path):\n",
    "    with gzip.open(vcf_path, \"rt\") as ifile:\n",
    "        for line in ifile:\n",
    "            if line.startswith(\"#CHROM\"):\n",
    "                vcf_names = line.strip().lstrip(\"#\").split(\"\\t\")\n",
    "                break\n",
    "    return vcf_names\n",
    "\n",
    "names = get_vcf_names(vcf_file)"
   ]
  },
  {
   "cell_type": "markdown",
   "id": "dbdc998b",
   "metadata": {},
   "source": [
    "### Lire le VCF avec pandas"
   ]
  },
  {
   "cell_type": "code",
   "execution_count": 5,
   "metadata": {},
   "outputs": [
    {
     "name": "stderr",
     "output_type": "stream",
     "text": [
      "/var/folders/6n/hw7c94m14pn9syslmn86py080000gq/T/ipykernel_18373/2647183103.py:1: FutureWarning: The 'delim_whitespace' keyword in pd.read_csv is deprecated and will be removed in a future version. Use ``sep='\\s+'`` instead\n",
      "  vcf_chunks = pd.read_csv(\n"
     ]
    }
   ],
   "source": [
    "vcf_chunks = pd.read_csv(\n",
    "    vcf_file,\n",
    "    comment='#',\n",
    "    chunksize=10000,\n",
    "    delim_whitespace=True,\n",
    "    header=None,\n",
    "    names=names,\n",
    "    dtype=str\n",
    ")"
   ]
  },
  {
   "cell_type": "markdown",
   "id": "b6e6d23f",
   "metadata": {},
   "source": [
    "### Parser le champ INFO"
   ]
  },
  {
   "cell_type": "code",
   "execution_count": 6,
   "id": "c6ff4439",
   "metadata": {},
   "outputs": [],
   "source": [
    "import re\n",
    "\n",
    "def parse_info(info_str):\n",
    "    \"\"\"\n",
    "    Transforme le champ INFO d'un VCF en dictionnaire clé=valeur.\n",
    "    Ne suppose pas de clés fixes, récupère tout.\n",
    "    \"\"\"\n",
    "    info_dict = {}\n",
    "    if pd.isna(info_str):\n",
    "        return info_dict\n",
    "    items = info_str.split(';')\n",
    "    for item in items:\n",
    "        if '=' in item:\n",
    "            key, value = item.split('=', 1)\n",
    "            info_dict[key] = value\n",
    "    return info_dict\n"
   ]
  },
  {
   "cell_type": "markdown",
   "id": "68b28787",
   "metadata": {},
   "source": [
    "### Chargement des gènes mitochondriaux"
   ]
  },
  {
   "cell_type": "code",
   "execution_count": 7,
   "id": "90e9c543",
   "metadata": {},
   "outputs": [
    {
     "name": "stdout",
     "output_type": "stream",
     "text": [
      "Nombre de gènes mitochondriaux : 1136\n",
      "{'26520', '4723', '9463', '64902', '84680', '10650', '27165', '374882', '113115', '57505', '58510', '47', '65003', '5164', '26589', '1757', '63931', '160428', '84340', '1622', '7417', '92399', '5106', '9517', '84902', '441024', '55066', '384', '115817', '60528', '10632', '1375', '874', '1727', '167681', '26027', '80273', '1337', '212', '91942', '64978', '79896', '80324', '292', '4697', '29078', '100130890', '11022', '399512', '51250', '84269', '64757', '1629', '223', '440574', '10249', '84896', '29090', '4536', '89874', '130916', '6182', '84705', '10965', '3338', '219402', '51205', '57546', '22907', '11162', '8846', '91137', '84908', '64756', '57678', '56945', '4528', '4129', '26355', '10166', '9588', '92106', '51023', '2936', '25828', '128308', '80724', '7381', '4128', '81034', '221154', '211', '2820', '54704', '841', '1329', '374986', '51566', '4967', '51067', '51095', '283130', '84331', '92170', '3032', '836', '6742', '54677', '50865', '204', '509', '788', '129807', '64969', '7374', '5625', '153768', '55217', '10476', '847', '54675', '4514', '29103', '55037', '60493', '63929', '3421', '22868', '4285', '23788', '81894', '1723', '8604', '54802', '54708', '1854', '4541', '84681', '84706', '5245', '7350', '90871', '3396', '84277', '4695', '8165', '192286', '284486', '9361', '134145', '10721', '25874', '7923', '1374', '51022', '51027', '4513', '27044', '89941', '55347', '548596', '83693', '1583', '4968', '29796', '617', '79863', '1407', '284439', '11019', '55739', '9093', '34', '728489', '55811', '54902', '1431', '25875', '9131', '1891', '4716', '23786', '64087', '1312', '79072', '2040', '5423', '9551', '84545', '84895', '109703458', '23479', '55847', '150274', '131118', '10202', '4170', '25813', '197322', '8034', '286097', '285367', '387990', '11222', '751071', '6150', '26284', '63933', '51559', '5188', '112724', '51031', '116228', '2647', '1743', '254552', '80207', '84266', '518', '51079', '10455', '64745', '55149', '255027', '283951', '55486', '5091', '55101', '23474', '10463', '9481', '112817', '92935', '9823', '285315', '4722', '90550', '27349', '54927', '83642', '51142', '51537', '4728', '6687', '84129', '55052', '285343', '81855', '29074', '132001', '8803', '1373', '65005', '35', '6341', '9804', '54470', '145853', '4704', '79671', '56994', '10018', '118980', '3030', '1371', '55013', '493753', '8508', '55326', '57665', '55218', '10352', '644096', '1632', '1537', '51056', '126129', '150209', '55972', '201229', '4713', '3422', '116447', '5831', '57143', '4726', '11264', '56948', '254042', '23456', '79810', '637', '80024', '11194', '1763', '27235', '54995', '137872', '114294', '1345', '5095', '10873', '2806', '23417', '57506', '90480', '81554', '498', '9016', '2879', '25821', '4729', '55178', '283377', '2356', '5160', '28957', '152926', '64943', '29920', '91419', '79675', '79828', '665', '140823', '81570', '1594', '85865', '64083', '2987', '92667', '2272', '84816', '25824', '27089', '5442', '114876', '7978', '55794', '115286', '3954', '10651', '3329', '517', '144363', '114971', '79814', '763', '7915', '4329', '51601', '56947', '84842', '339983', '124454', '513', '84293', '9054', '10667', '125965', '2232', '115416', '55186', '253827', '55969', '8050', '51116', '162417', '10059', '219', '27440', '402', '55006', '10229', '2653', '283459', '10105', '728294', '10553', '64981', '3429', '516', '29928', '4725', '10063', '51318', '55014', '27068', '4482', '51654', '57570', '166785', '92609', '28998', '7352', '84769', '26515', '80017', '9868', '51295', '56652', '25953', '11315', '80119', '56181', '3419', '10434', '708', '581', '81890', '80179', '28992', '26164', '56907', '115209', '60314', '10549', '25979', '55333', '4705', '4717', '54148', '7019', '3712', '1429', '11112', '4535', '22921', '597', '1160', '123876', '38', '4508', '116285', '84334', '4538', '125988', '253190', '94033', '84263', '666', '10295', '131076', '55572', '348158', '339229', '4595', '4539', '5566', '26275', '128240', '6832', '2628', '126328', '79611', '55621', '60681', '9380', '2954', '5018', '2495', '3094', '10452', '6390', '157378', '740', '253512', '51115', '26024', '64172', '79145', '670', '84947', '55288', '65008', '10939', '51103', '5096', '2617', '51258', '54059', '23787', '55074', '7296', '50', '2631', '51024', '8402', '374291', '147407', '118487', '9238', '56616', '4707', '55862', '57149', '100131801', '84300', '5071', '27034', '55848', '8574', '133383', '9377', '11331', '1347', '10058', '127018', '10768', '10240', '4976', '2271', '55753', '51021', '572', '23078', '51102', '23597', '3028', '54888', '57107', '5832', '92259', '51805', '246269', '87178', '2110', '51650', '706', '2021', '201164', '2224', '54332', '51335', '79934', '100303755', '84881', '119559', '29957', '26235', '54471', '55163', '56954', '221545', '4696', '1593', '64975', '387338', '132299', '57001', '83875', '842', '137682', '5825', '219938', '32', '9692', '200205', '79590', '51166', '85476', '65993', '55967', '5138', '29958', '4708', '284273', '9617', '84749', '1585', '10922', '54943', '84275', '3336', '55863', '84833', '94097', '1841', '8225', '593', '3945', '57129', '57380', '539', '7156', '55750', '81892', '4357', '36', '4077', '10797', '51117', '254013', '91647', '7419', '51300', '113675', '5019', '3416', '3980', '51073', '64432', '197257', '64863', '8801', '28973', '29093', '1339', '10449', '2235', '10975', '2926', '55735', '1738', '84303', '64951', '2168', '51373', '4731', '57128', '25961', '60492', '205', '80221', '54516', '51409', '80308', '284427', '51657', '54948', '23590', '349565', '3052', '80777', '25902', '30', '51181', '9997', '3295', '23600', '7416', '4257', '51004', '57017', '55168', '4259', '56267', '25973', '65990', '638', '81889', '116540', '388962', '1159', '6392', '9342', '55260', '25915', '11212', '730249', '192111', '5264', '55316', '201973', '54460', '55687', '215', '203054', '51012', '64965', '381', '203427', '5166', '51263', '9512', '3158', '55699', '51106', '51204', '64960', '4512', '10884', '51642', '389203', '4358', '118881', '79877', '124995', '91689', '2731', '84311', '60491', '55187', '7818', '134266', '8564', '79944', '599', '1666', '63899', '217', '5163', '549', '154791', '10840', '90956', '6391', '201626', '6770', '8834', '5366', '51660', '137994', '25996', '10989', '54996', '284184', '28958', '25819', '150763', '8659', '1355', '80347', '2747', '51522', '284723', '10350', '57016', '4594', '1584', '6183', '116541', '4913', '587', '26517', '64983', '56997', '90580', '22934', '84134', '10247', '23408', '5428', '100996939', '25994', '4702', '80775', '10531', '26519', '84987', '10606', '122704', '64146', '51001', '26521', '1737', '79135', '11164', '133686', '594', '51241', '50640', '55278', '51629', '55471', '4519', '7284', '4694', '4714', '291', '100287932', '1352', '596', '160760', '112812', '55312', '401505', '1678', '5498', '341392', '56910', '1716', '501', '27109', '100526740', '54949', '3735', '64968', '125170', '1350', '3033', '83451', '81932', '401250', '1346', '131474', '51011', '2671', '328', '57048', '54931', '139322', '10201', '790955', '10587', '64949', '5165', '4711', '373156', '2746', '3313', '196294', '133957', '57150', '79568', '23305', '9581', '123263', '84532', '10440', '54974', '79746', '60558', '56953', '170712', '18', '10901', '114789', '51651', '4191', '5827', '84233', '23438', '126789', '22', '10469', '9941', '598', '80025', '6472', '26073', '26995', '51312', '388753', '9553', '2180', '5860', '622', '5414', '138428', '54534', '79736', '51499', '79133', '79922', '10730', '2876', '8192', '10588', '1327', '27247', '6834', '33', '1468', '51069', '6296', '28977', '6342', '4718', '55210', '51253', '94081', '2395', '55245', '84273', '9673', '401207', '79085', '79783', '284106', '54205', '2744', '10573', '139341', '51218', '2194', '25880', '64216', '10245', '1349', '6697', '4580', '125228', '2109', '79693', '4337', '4200', '8799', '521', '9401', '79763', '63875', '60386', 'ENSG00000230623', '4724', '56993', '56922', '3420', '387787', '27166', '9801', '140886', '55669', '122961', '283600', '65018', '4706', '28976', '3418', '23410', '401612', '58472', '64064', '27113', '81689', '6648', '11238', '83733', '6576', '4720', '57038', '578', '1353', '1376', '57176', '224', '84274', '51649', '80219', '6647', '54920', '51309', '27069', '4700', '29960', '55335', '55177', '414919', '6389', '4898', '64928', '79731', '53343', '6901', '4710', '4942', '54998', '285521', '100131187', '101928527', '79587', '664', '400916', '219927', '4509', '11216', '196074', '205327', '83787', '4817', '10367', '225', '1892', '55268', '100188893', '7263', '7084', '23770', '23409', '83858', '79680', '116151', '64976', '78988', '56848', '80309', '135114', '10845', '54988', '4701', '6821', '5250', '55349', '123096', '80303', '506', '83943', '84869', '1340', '293', '54543', '23464', '84693', '29088', '515', '2230', '51081', '23395', '522', '64963', '57486', '246243', '64979', '4719', '117145', '80142', '1591', '37', '11232', '92483', '23761', '29081', '10935', '4715', '65991', '4712', '7386', '79751', '31', '129607', '27429', '55157', '23203', '51025', '1384', '4832', '90624', '8209', '132158', '84701', '79594', '84883', '1760', '10017', '10128', '84105', '84709', '9650', '55744', '56895', '1962', '4537', '10953', '80224', '2639', '153328', '54938', '2108', '50808', '2053', '80298', '83447', '56942', '90806', '326625', '27249', '51264', '100272147', '4698', '3029', '90639', '152100', '9927', '55856', '4709', '9812', '390916', '55526', '84419', '60488', '65080', '318', '5009', '54940', '4540', '54977', '10157', '93058', '55005', '1351', '9556', '53917', '222234', '30968', '5162', '51179', '93974', '8802', '9167', '347411', '57226', '25934', '7001', '79979', '514', '10131', '3155', '10102', '91574', '11332', '23107', '9489', '64847', '345778', '4833', '7351', '171425', '341947', '92014', '7384', '275', '7388', '189', '54539', '7385', '54968', '51110', '80222', '79714', '65260', '23530', '51287', '10165', '55173', '135154', '5161'}\n"
     ]
    }
   ],
   "source": [
    "import json\n",
    "\n",
    "json_path = \"../../data/mitocarta/mitocarta_pivot_full.json\"\n",
    "with open(json_path, \"r\", encoding=\"utf8\") as f:\n",
    "    mitocarta_pivot = json.load(f)\n",
    "\n",
    "# Récupérer tous les HumanGeneID\n",
    "mito_hgnc_ids = set(mitocarta_pivot.keys())\n",
    "print(\"Nombre de gènes mitochondriaux :\", len(mito_hgnc_ids))\n",
    "print(mito_hgnc_ids)"
   ]
  },
  {
   "cell_type": "markdown",
   "id": "551ac496",
   "metadata": {},
   "source": [
    "### Extraire les champs clés et filtrer mitochondriaux"
   ]
  },
  {
   "cell_type": "code",
   "execution_count": 8,
   "id": "93e3ad22",
   "metadata": {},
   "outputs": [
    {
     "name": "stdout",
     "output_type": "stream",
     "text": [
      "Colonnes du chunk : ['CHROM', 'POS', 'ID', 'REF', 'ALT', 'QUAL', 'FILTER', 'INFO']\n",
      "Aperçu des premières lignes :\n",
      "  CHROM    POS       ID REF ALT QUAL FILTER  \\\n",
      "0     1  66926  3385321  AG   A    .      .   \n",
      "1     1  69134  2205837   A   G    .      .   \n",
      "2     1  69308  3925305   A   G    .      .   \n",
      "3     1  69314  3205580   T   G    .      .   \n",
      "4     1  69404  3925306   T   C    .      .   \n",
      "\n",
      "                                                INFO  \n",
      "0  ALLELEID=3544463;CLNDISDB=Human_Phenotype_Onto...  \n",
      "1  ALLELEID=2193183;CLNDISDB=MedGen:CN169374;CLND...  \n",
      "2  ALLELEID=4039319;CLNDISDB=MedGen:CN169374;CLND...  \n",
      "3  ALLELEID=3374047;CLNDISDB=MedGen:CN169374;CLND...  \n",
      "4  ALLELEID=4039320;CLNDISDB=MedGen:CN169374;CLND...  \n"
     ]
    }
   ],
   "source": [
    "first_chunk = next(vcf_chunks)\n",
    "print(\"Colonnes du chunk :\", first_chunk.columns.tolist())\n",
    "print(\"Aperçu des premières lignes :\")\n",
    "print(first_chunk.head())"
   ]
  },
  {
   "cell_type": "code",
   "execution_count": 9,
   "id": "7ae881cf",
   "metadata": {},
   "outputs": [
    {
     "name": "stdout",
     "output_type": "stream",
     "text": [
      "Exemples de champ INFO :\n",
      "['ALLELEID=3544463;CLNDISDB=Human_Phenotype_Ontology:HP:0000547,MONDO:MONDO:0019200,MeSH:D012174,MedGen:C0035334,OMIM:268000,OMIM:PS268000,Orphanet:791;CLNDN=Retinitis_pigmentosa;CLNHGVS=NC_000001.11:g.66927del;CLNREVSTAT=criteria_provided,_single_submitter;CLNSIG=Uncertain_significance;CLNSIGSCV=SCV005419006;CLNVC=Deletion;CLNVCSO=SO:0000159;GENEINFO=OR4F5:79501;MC=SO:0001627|intron_variant;ORIGIN=0', 'ALLELEID=2193183;CLNDISDB=MedGen:CN169374;CLNDN=not_specified;CLNHGVS=NC_000001.11:g.69134A>G;CLNREVSTAT=criteria_provided,_single_submitter;CLNSIG=Likely_benign;CLNSIGSCV=SCV003526545;CLNVC=single_nucleotide_variant;CLNVCSO=SO:0001483;CLNVI=ClinGen:CA502008;GENEINFO=OR4F5:79501;MC=SO:0001583|missense_variant;ORIGIN=1;RS=781394307', 'ALLELEID=4039319;CLNDISDB=MedGen:CN169374;CLNDN=not_specified;CLNHGVS=NC_000001.11:g.69308A>G;CLNREVSTAT=criteria_provided,_single_submitter;CLNSIG=Uncertain_significance;CLNSIGSCV=SCV006120601;CLNVC=single_nucleotide_variant;CLNVCSO=SO:0001483;GENEINFO=OR4F5:79501;MC=SO:0001583|missense_variant;ORIGIN=1', 'ALLELEID=3374047;CLNDISDB=MedGen:CN169374;CLNDN=not_specified;CLNHGVS=NC_000001.11:g.69314T>G;CLNREVSTAT=criteria_provided,_single_submitter;CLNSIG=Uncertain_significance;CLNSIGSCV=SCV004995495;CLNVC=single_nucleotide_variant;CLNVCSO=SO:0001483;CLNVI=ClinGen:CA338197388;GENEINFO=OR4F5:79501;MC=SO:0001583|missense_variant;ORIGIN=1;RS=2521653848', 'ALLELEID=4039320;CLNDISDB=MedGen:CN169374;CLNDN=not_specified;CLNHGVS=NC_000001.11:g.69404T>C;CLNREVSTAT=criteria_provided,_single_submitter;CLNSIG=Uncertain_significance;CLNSIGSCV=SCV006120602;CLNVC=single_nucleotide_variant;CLNVCSO=SO:0001483;GENEINFO=OR4F5:79501;MC=SO:0001583|missense_variant;ORIGIN=1', 'ALLELEID=3374048;CLNDISDB=MedGen:CN169374;CLNDN=not_specified;CLNHGVS=NC_000001.11:g.69423G>A;CLNREVSTAT=criteria_provided,_single_submitter;CLNSIG=Uncertain_significance;CLNSIGSCV=SCV004995496;CLNVC=single_nucleotide_variant;CLNVCSO=SO:0001483;CLNVI=ClinGen:CA338197763;GENEINFO=OR4F5:79501;MC=SO:0001583|missense_variant;ORIGIN=1;RS=2521654033', 'ALLELEID=2238986;CLNDISDB=MedGen:CN169374;CLNDN=not_specified;CLNHGVS=NC_000001.11:g.69581C>G;CLNREVSTAT=criteria_provided,_single_submitter;CLNSIG=Uncertain_significance;CLNSIGSCV=SCV003584698;CLNVC=single_nucleotide_variant;CLNVCSO=SO:0001483;CLNVI=ClinGen:CA338198277;GENEINFO=OR4F5:79501;MC=SO:0001583|missense_variant;ORIGIN=1;RS=1570409925', 'AF_EXAC=0.00007;ALLELEID=2386655;CLNDISDB=MedGen:CN169374;CLNDN=not_specified;CLNHGVS=NC_000001.11:g.69682G>A;CLNREVSTAT=criteria_provided,_single_submitter;CLNSIG=Uncertain_significance;CLNSIGSCV=SCV003739621;CLNVC=single_nucleotide_variant;CLNVCSO=SO:0001483;CLNVI=ClinGen:CA502063;GENEINFO=OR4F5:79501;MC=SO:0001583|missense_variant;ORIGIN=1;RS=766444643', 'ALLELEID=3374049;CLNDISDB=MedGen:CN169374;CLNDN=not_specified;CLNHGVS=NC_000001.11:g.69731T>C;CLNREVSTAT=criteria_provided,_single_submitter;CLNSIG=Uncertain_significance;CLNSIGSCV=SCV004995497;CLNVC=single_nucleotide_variant;CLNVCSO=SO:0001483;CLNVI=ClinGen:CA338198606;GENEINFO=OR4F5:79501;MC=SO:0001583|missense_variant;ORIGIN=1;RS=1224500596', 'ALLELEID=2278803;CLNDISDB=MedGen:CN169374;CLNDN=not_specified;CLNHGVS=NC_000001.11:g.69769T>C;CLNREVSTAT=criteria_provided,_single_submitter;CLNSIG=Uncertain_significance;CLNSIGSCV=SCV003620560;CLNVC=single_nucleotide_variant;CLNVCSO=SO:0001483;CLNVI=ClinGen:CA338198691;GENEINFO=OR4F5:79501;MC=SO:0001583|missense_variant;ORIGIN=1;RS=2521655946']\n",
      "Items séparés : ['ALLELEID=3544463', 'CLNDISDB=Human_Phenotype_Ontology:HP:0000547,MONDO:MONDO:0019200,MeSH:D012174,MedGen:C0035334,OMIM:268000,OMIM:PS268000,Orphanet:791', 'CLNDN=Retinitis_pigmentosa', 'CLNHGVS=NC_000001.11:g.66927del', 'CLNREVSTAT=criteria_provided,_single_submitter', 'CLNSIG=Uncertain_significance', 'CLNSIGSCV=SCV005419006', 'CLNVC=Deletion', 'CLNVCSO=SO:0000159', 'GENEINFO=OR4F5:79501', 'MC=SO:0001627|intron_variant', 'ORIGIN=0']\n",
      "Dictionnaire INFO : {'ALLELEID': '3544463', 'CLNDISDB': 'Human_Phenotype_Ontology:HP:0000547,MONDO:MONDO:0019200,MeSH:D012174,MedGen:C0035334,OMIM:268000,OMIM:PS268000,Orphanet:791', 'CLNDN': 'Retinitis_pigmentosa', 'CLNHGVS': 'NC_000001.11:g.66927del', 'CLNREVSTAT': 'criteria_provided,_single_submitter', 'CLNSIG': 'Uncertain_significance', 'CLNSIGSCV': 'SCV005419006', 'CLNVC': 'Deletion', 'CLNVCSO': 'SO:0000159', 'GENEINFO': 'OR4F5:79501', 'MC': 'SO:0001627|intron_variant', 'ORIGIN': '0'}\n"
     ]
    }
   ],
   "source": [
    "print(\"Exemples de champ INFO :\")\n",
    "print(first_chunk['INFO'].head(10).tolist())\n",
    "\n",
    "info_str = first_chunk[\"INFO\"].iloc[0]\n",
    "\n",
    "items = info_str.split(';')\n",
    "print(\"Items séparés :\", items)\n",
    "\n",
    "\n",
    "info_dict = {}\n",
    "for item in items:\n",
    "    if '=' in item:\n",
    "        key, value = item.split('=', 1)\n",
    "        info_dict[key] = value\n",
    "\n",
    "print(\"Dictionnaire INFO :\", info_dict)\n"
   ]
  },
  {
   "cell_type": "markdown",
   "id": "836982e5",
   "metadata": {},
   "source": [
    "### Decoupe et filtrage des gènes mitochondriaux\n",
    "\n",
    "Etape très lente"
   ]
  },
  {
   "cell_type": "code",
   "execution_count": 10,
   "id": "463d2283",
   "metadata": {},
   "outputs": [],
   "source": [
    "clinvar_mito_records = {}\n",
    "\n",
    "for chunk in vcf_chunks:  # vcf_chunks : iterator pandas avec chunksize\n",
    "    # parser INFO\n",
    "    chunk['info_dict'] = chunk['INFO'].apply(parse_info)\n",
    "    \n",
    "    # Extraire gene_symbol et gene_id depuis GENEINFO\n",
    "    def extract_geneinfo(info):\n",
    "        geneinfo = info.get('GENEINFO', None)\n",
    "        if geneinfo:\n",
    "            parts = geneinfo.split(':')\n",
    "            symbol = parts[0]\n",
    "            gene_id = parts[1] if len(parts) > 1 else None\n",
    "            return pd.Series([symbol, gene_id])\n",
    "        else:\n",
    "            return pd.Series([None, None])\n",
    "    \n",
    "    chunk[['gene_symbol', 'gene_id']] = chunk['info_dict'].apply(extract_geneinfo)\n",
    "    \n",
    "    # Filtrer uniquement variants mitochondriaux sur gene_id\n",
    "    chunk_mito = chunk[chunk['gene_id'].isin(mito_hgnc_ids)]"
   ]
  },
  {
   "cell_type": "code",
   "execution_count": 11,
   "id": "794e7cb6",
   "metadata": {},
   "outputs": [
    {
     "name": "stdout",
     "output_type": "stream",
     "text": [
      "        CHROM        POS       ID REF ALT QUAL FILTER  \\\n",
      "3680435     X  155026961  2276085   C   A    .      .   \n",
      "3680436     X  155026975  2496211   G   A    .      .   \n",
      "3680437     X  155026993  2352260   C   T    .      .   \n",
      "3680438     X  155027003  3517726   C   G    .      .   \n",
      "3680439     X  155027008  3852109   C   G    .      .   \n",
      "...       ...        ...      ...  ..  ..  ...    ...   \n",
      "3683832    MT      15884   252455   G   C    .      .   \n",
      "3683833    MT      15885   693973   C   T    .      .   \n",
      "3683917    MT      16230  1525975   A   G    .      .   \n",
      "3683918    MT      16274  1525974   G   A    .      .   \n",
      "3683919    MT      16319  1526264   G   A    .      .   \n",
      "\n",
      "                                                      INFO  \\\n",
      "3680435  AF_EXAC=0.00010;ALLELEID=2265907;CLNDISDB=MedG...   \n",
      "3680436  ALLELEID=2469986;CLNDISDB=MedGen:CN169374;CLND...   \n",
      "3680437  ALLELEID=2340246;CLNDISDB=MedGen:CN169374;CLND...   \n",
      "3680438  ALLELEID=3676721;CLNDISDB=MedGen:CN169374;CLND...   \n",
      "3680439  ALLELEID=3966722;CLNDISDB=MedGen:CN169374;CLND...   \n",
      "...                                                    ...   \n",
      "3683832  ALLELEID=247210;CLNDISDB=MedGen:CN169374|MONDO...   \n",
      "3683833  ALLELEID=680863;CLNDISDB=MONDO:MONDO:0009723,M...   \n",
      "3683917  ALLELEID=1517319;CLNDISDB=MONDO:MONDO:0010790,...   \n",
      "3683918  ALLELEID=1517318;CLNDISDB=MONDO:MONDO:0010790,...   \n",
      "3683919  ALLELEID=1517668;CLNDISDB=MONDO:MONDO:0010790,...   \n",
      "\n",
      "                                                 info_dict gene_symbol gene_id  \n",
      "3680435  {'AF_EXAC': '0.00010', 'ALLELEID': '2265907', ...      FUNDC2   65991  \n",
      "3680436  {'ALLELEID': '2469986', 'CLNDISDB': 'MedGen:CN...      FUNDC2   65991  \n",
      "3680437  {'ALLELEID': '2340246', 'CLNDISDB': 'MedGen:CN...      FUNDC2   65991  \n",
      "3680438  {'ALLELEID': '3676721', 'CLNDISDB': 'MedGen:CN...      FUNDC2   65991  \n",
      "3680439  {'ALLELEID': '3966722', 'CLNDISDB': 'MedGen:CN...      FUNDC2   65991  \n",
      "...                                                    ...         ...     ...  \n",
      "3683832  {'ALLELEID': '247210', 'CLNDISDB': 'MedGen:CN1...      MT-CYB    4519  \n",
      "3683833  {'ALLELEID': '680863', 'CLNDISDB': 'MONDO:MOND...      MT-CYB    4519  \n",
      "3683917  {'ALLELEID': '1517319', 'CLNDISDB': 'MONDO:MON...      MT-CYB    4519  \n",
      "3683918  {'ALLELEID': '1517318', 'CLNDISDB': 'MONDO:MON...      MT-CYB    4519  \n",
      "3683919  {'ALLELEID': '1517668', 'CLNDISDB': 'MONDO:MON...      MT-CYB    4519  \n",
      "\n",
      "[2348 rows x 11 columns]\n"
     ]
    }
   ],
   "source": [
    "print(chunk_mito)"
   ]
  },
  {
   "cell_type": "markdown",
   "id": "3d530c7b",
   "metadata": {},
   "source": [
    "### Créaation du record"
   ]
  },
  {
   "cell_type": "code",
   "execution_count": 12,
   "id": "7d7dd8bf",
   "metadata": {},
   "outputs": [
    {
     "name": "stdout",
     "output_type": "stream",
     "text": [
      "Nombre total de variants mitochondriaux : 2348\n"
     ]
    }
   ],
   "source": [
    "# Créer les records\n",
    "for _, row in chunk_mito.iterrows():\n",
    "    variant_id = f\"{row['CHROM']}:{row['POS']}:{row['REF']}:{row['ALT']}\"\n",
    "    record = {\n",
    "        \"variant_id\": variant_id,\n",
    "        \"gene_id\": row['gene_id'],\n",
    "        \"gene_symbol\": row['gene_symbol'],\n",
    "        \"chromosome\": row['CHROM'],\n",
    "        \"position\": row['POS'],\n",
    "        \"ref\": row['REF'],\n",
    "        \"alt\": row['ALT'],\n",
    "        \"info\": row['info_dict'],            # toutes les clés INFO\n",
    "        \"clinical_significance\": row['info_dict'].get('CLNSIG', None),\n",
    "        \"disease_name\": row['info_dict'].get('CLNDN', None),\n",
    "        \"rsid\": row['info_dict'].get('RS', None)\n",
    "    }\n",
    "    clinvar_mito_records[variant_id] = record\n",
    "\n",
    "print(\"Nombre total de variants mitochondriaux :\", len(clinvar_mito_records))"
   ]
  },
  {
   "cell_type": "code",
   "execution_count": 14,
   "id": "6bf9f87f",
   "metadata": {},
   "outputs": [
    {
     "name": "stdout",
     "output_type": "stream",
     "text": [
      "Fichier JSON sauvegardé : ../../data/clinvar/clinvar_mito_records.json\n",
      "Fichier JSONL sauvegardé : ../../data/clinvar/clinvar_mito_records.jsonl\n"
     ]
    }
   ],
   "source": [
    "import json\n",
    "\n",
    "# Chemin de sortie\n",
    "json_file = \"../../data/clinvar/clinvar_mito_records.json\"\n",
    "jsonl_file = \"../../data/clinvar/clinvar_mito_records.jsonl\"\n",
    "\n",
    "# 1️⃣ Sauvegarde en JSON classique\n",
    "with open(json_file, \"w\", encoding=\"utf-8\") as f:\n",
    "    json.dump(clinvar_mito_records, f, ensure_ascii=False, indent=2)\n",
    "\n",
    "print(\"Fichier JSON sauvegardé :\", json_file)\n",
    "\n",
    "# 2️⃣ Sauvegarde en JSONL\n",
    "with open(jsonl_file, \"w\", encoding=\"utf-8\") as f:\n",
    "    for record in clinvar_mito_records.values():\n",
    "        f.write(json.dumps(record, ensure_ascii=False) + \"\\n\")\n",
    "\n",
    "print(\"Fichier JSONL sauvegardé :\", jsonl_file)\n"
   ]
  }
 ],
 "metadata": {
  "kernelspec": {
   "display_name": "cluster_analysis",
   "language": "python",
   "name": "python3"
  },
  "language_info": {
   "codemirror_mode": {
    "name": "ipython",
    "version": 3
   },
   "file_extension": ".py",
   "mimetype": "text/x-python",
   "name": "python",
   "nbconvert_exporter": "python",
   "pygments_lexer": "ipython3",
   "version": "3.12.0"
  }
 },
 "nbformat": 4,
 "nbformat_minor": 5
}
