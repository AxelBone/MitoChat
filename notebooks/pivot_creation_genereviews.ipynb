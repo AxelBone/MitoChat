{
 "cells": [
  {
   "cell_type": "markdown",
   "id": "821df211",
   "metadata": {},
   "source": [
    "### Filtrage des chapitres qui font mention d'un gène mitochondrial "
   ]
  },
  {
   "cell_type": "code",
   "execution_count": null,
   "id": "9fb416cf",
   "metadata": {},
   "outputs": [],
   "source": [
    "import pandas as pd\n",
    "\n",
    "genereviews_chapter = pd.read_csv(\"../data/public_db/genereviews/NBKid_shortname_genesymbol.txt\", sep=\"\\t\") ##\n"
   ]
  },
  {
   "cell_type": "code",
   "execution_count": 7,
   "id": "2cdc7494",
   "metadata": {},
   "outputs": [
    {
     "name": "stdout",
     "output_type": "stream",
     "text": [
      "        #NBK_id       GR_shortname genesymbol\n",
      "0           NaN               zttk        SON\n",
      "1       NBK1103  trimethylaminuria       FMO3\n",
      "2       NBK1104               cdls       BRD4\n",
      "3       NBK1104               cdls      HDAC8\n",
      "4       NBK1104               cdls      NIPBL\n",
      "...         ...                ...        ...\n",
      "2412  NBK616086           ptps-def        PTS\n",
      "2413  NBK616087                jmc      PTH1R\n",
      "2414  NBK616232         cdkn2a-cpd     CDKN2A\n",
      "2415  NBK617054     slc19a1-ft-def    SLC19A1\n",
      "2416  NBK617444         tcirg1-opt     TCIRG1\n",
      "\n",
      "[2417 rows x 3 columns]\n"
     ]
    }
   ],
   "source": [
    "print(genereviews_chapter)"
   ]
  },
  {
   "cell_type": "markdown",
   "id": "3a61200e",
   "metadata": {},
   "source": [
    "#### Lecture des gènes mitocarta3"
   ]
  },
  {
   "cell_type": "code",
   "execution_count": 8,
   "id": "7100f1ae",
   "metadata": {},
   "outputs": [
    {
     "name": "stdout",
     "output_type": "stream",
     "text": [
      "Nombre de gènes mitochondriaux : 1136\n",
      "['HSD17B4', 'LDHD', 'NDUFB2', 'HINT1', 'MRPL43', 'MRPL4', 'COX7A1', 'GCAT', 'NUDT5', 'ACAA2']\n"
     ]
    }
   ],
   "source": [
    "import json\n",
    "\n",
    "json_path = \"../data/pivot_output/mitocarta_pivot_full.json\"\n",
    "with open(json_path, \"r\", encoding=\"utf8\") as f:\n",
    "    mitocarta_pivot = json.load(f)\n",
    "\n",
    "# Récupérer tous les HumanGeneID\n",
    "mito_symbols = set()\n",
    "for gene_id, gene_info in mitocarta_pivot.items():\n",
    "    symbol = gene_info.get(\"symbol\")\n",
    "    if symbol:\n",
    "        mito_symbols.add(symbol)\n",
    "\n",
    "print(\"Nombre de gènes mitochondriaux :\", len(mito_symbols))\n",
    "print(list(mito_symbols)[:10])  # aperçu des 10 premiers symbols"
   ]
  },
  {
   "cell_type": "markdown",
   "id": "42a11bd8",
   "metadata": {},
   "source": [
    "### Filtrage des chapitres"
   ]
  },
  {
   "cell_type": "code",
   "execution_count": 14,
   "id": "73d1de57",
   "metadata": {},
   "outputs": [
    {
     "name": "stdout",
     "output_type": "stream",
     "text": [
      "{'NBK1409', 'NBK63582', 'NBK316514', 'NBK1174', 'NBK1237', 'NBK1107', 'NBK1155', 'NBK547304', 'NBK6803', 'NBK1424', 'NBK1173', 'NBK114807', 'NBK1221', 'NBK1165', 'NBK1252', 'NBK1242', 'NBK121284', 'NBK542806', 'NBK121283', 'NBK1509', 'NBK1224', 'NBK1358', 'NBK1357', 'NBK1353', 'NBK1328', 'NBK26471', 'NBK100826', 'NBK1319', 'NBK304142', 'NBK1315', 'NBK540959', 'NBK481904', 'NBK1168', 'NBK453433', 'NBK558236', 'NBK121988', 'NBK608563', 'NBK1450', 'NBK6816', 'NBK453432', 'NBK1448', 'NBK43417', 'NBK595820', 'NBK1417', 'NBK1231', 'NBK284774', 'NBK2692', 'NBK1223', 'NBK1478', 'NBK220444', 'NBK320989', 'NBK555473', 'NBK54582', 'NBK546575', 'NBK589231', 'NBK1506', 'NBK97260', 'NBK581452', 'NBK1253', 'NBK1365', 'NBK584020', 'NBK304122', 'NBK1216', 'NBK1283', 'NBK6852', 'NBK538658', 'NBK242617', 'NBK537720', 'NBK583531', 'NBK1473', 'NBK3794', 'NBK1527', 'NBK1233', 'NBK1490', 'NBK1281', 'NBK591557', 'NBK195853', 'NBK1181', 'NBK582032', 'NBK1204', 'NBK92946', 'NBK154378', 'NBK596643', 'NBK1195', 'NBK1486', 'NBK1548', 'NBK410087', 'NBK92947', 'NBK601614', 'NBK7040', 'NBK571223', 'NBK107219', 'NBK575630', 'NBK581082', 'NBK7041', 'NBK1138', 'NBK114628', 'NBK1434', 'NBK396257', 'NBK1511', 'NBK1375', 'NBK1217', 'NBK26472', 'NBK425540', 'NBK425223'}\n",
      "105\n"
     ]
    }
   ],
   "source": [
    "mito_chapter_to_keep = set()\n",
    "for _, row in genereviews_chapter.iterrows():\n",
    "    gene = row[\"genesymbol\"]\n",
    "    chapter = row[\"#NBK_id\"]\n",
    "\n",
    "    if gene in mito_symbols:\n",
    "        mito_chapter_to_keep.add(chapter)\n",
    "\n",
    "print(mito_chapter_to_keep)\n",
    "print(len(mito_chapter_to_keep))"
   ]
  },
  {
   "cell_type": "markdown",
   "id": "f3785b5e",
   "metadata": {},
   "source": [
    "#### Filtrage des chapitres "
   ]
  },
  {
   "cell_type": "code",
   "execution_count": 2,
   "id": "0c83014c",
   "metadata": {},
   "outputs": [
    {
     "name": "stdout",
     "output_type": "stream",
     "text": [
      "Test encodage pour gene_NBK1116/ibm-Image001.jpg:\n",
      "  ❌ utf-8 échoue\n",
      "  ❌ utf-16 échoue\n",
      "  ✅ ISO-8859-1 fonctionne : 'ÿØÿà\\x00\\x10JFIF\\x00\\x01\\x01\\x01\\x00\\x96\\x00\\x96\\x00\\x00ÿí\\x00,Photoshop 3.0\\x008BIM\\x03í\\x00\\x00\\x00\\x00\\x00\\x10\\x00\\x96\\x00\\x00\\x00\\x01\\x00\\x01\\x00\\x96\\x00\\x00\\x00\\x01\\x00\\x01ÿáNÑhttp://ns.adobe.com/xap/1.0/\\x00<'\n",
      "  ✅ cp1252 fonctionne : 'ÿØÿà\\x00\\x10JFIF\\x00\\x01\\x01\\x01\\x00–\\x00–\\x00\\x00ÿí\\x00,Photoshop 3.0\\x008BIM\\x03í\\x00\\x00\\x00\\x00\\x00\\x10\\x00–\\x00\\x00\\x00\\x01\\x00\\x01\\x00–\\x00\\x00\\x00\\x01\\x00\\x01ÿáNÑhttp://ns.adobe.com/xap/1.0/\\x00<'\n"
     ]
    }
   ],
   "source": [
    "import tarfile\n",
    "\n",
    "tar_path = \"../data/public_db/genereviews/gene_NBK1116.tar.gz\"\n",
    "\n",
    "with tarfile.open(tar_path, \"r:gz\") as tar:\n",
    "    # Choisir un fichier à tester (le premier fichier)\n",
    "    for member in tar.getmembers():\n",
    "        if member.isfile():\n",
    "            f = tar.extractfile(member)\n",
    "            raw = f.read(200)  # lire juste les 200 premiers bytes\n",
    "            f.close()\n",
    "            \n",
    "            print(f\"Test encodage pour {member.name}:\")\n",
    "            for enc in [\"utf-8\", \"utf-16\", \"ISO-8859-1\", \"cp1252\"]:\n",
    "                try:\n",
    "                    snippet = raw.decode(enc)\n",
    "                    print(f\"  ✅ {enc} fonctionne : {snippet[:100]!r}\")\n",
    "                except UnicodeDecodeError:\n",
    "                    print(f\"  ❌ {enc} échoue\")\n",
    "            break  # tester juste un fichier\n"
   ]
  },
  {
   "cell_type": "code",
   "execution_count": 4,
   "id": "1b793718",
   "metadata": {},
   "outputs": [
    {
     "name": "stdout",
     "output_type": "stream",
     "text": [
      "Nombre de chapitres mitochondriaux : 1\n"
     ]
    }
   ],
   "source": [
    "import re\n",
    "\n",
    "gene_reviews_mito = {}\n",
    "\n",
    "# Fonction de chunking simple (peut être remplacée par un tokenizer)\n",
    "def chunk_text(text, chunk_size=300):\n",
    "    words = text.split()\n",
    "    chunks = []\n",
    "    for i in range(0, len(words), chunk_size):\n",
    "        chunks.append(\" \".join(words[i:i+chunk_size]))\n",
    "    return chunks\n",
    "\n",
    "with tarfile.open(tar_path, \"r:gz\") as tar:\n",
    "    for member in tar.getmembers():\n",
    "        # On ne prend que les fichiers texte (.txt ou .html)\n",
    "        if member.isfile() and (member.name.endswith(\".txt\") or member.name.endswith(\".html\")):\n",
    "            f = tar.extractfile(member)\n",
    "            raw = f.read()\n",
    "            f.close()\n",
    "            \n",
    "            # Décodage robuste\n",
    "            try:\n",
    "                content = raw.decode(\"utf-8\")\n",
    "            except UnicodeDecodeError:\n",
    "                try:\n",
    "                    content = raw.decode(\"ISO-8859-1\")\n",
    "                except UnicodeDecodeError:\n",
    "                    print(f\"Impossible de décoder {member.name}, fichier ignoré\")\n",
    "                    continue\n",
    "            \n",
    "            # Filtrer chapitres mitochondriaux\n",
    "            genes_in_text = [symbol for symbol in mito_symbols if re.search(rf\"\\b{symbol}\\b\", content)]\n",
    "            if not genes_in_text:\n",
    "                continue  # pas de gènes mitochondriaux, on skip\n",
    "            \n",
    "            # Chunking\n",
    "            chunks = chunk_text(content)\n",
    "            \n",
    "            # Création des records pour chaque chunk\n",
    "            gene_reviews_mito[member.name] = []\n",
    "            for i, chunk in enumerate(chunks):\n",
    "                gene_reviews_mito[member.name].append({\n",
    "                    \"chunk_id\": f\"{member.name}_chunk{i+1}\",\n",
    "                    \"content\": chunk,\n",
    "                    \"mito_genes\": genes_in_text\n",
    "                })\n",
    "\n",
    "print(\"Nombre de chapitres mitochondriaux :\", len(gene_reviews_mito))"
   ]
  },
  {
   "cell_type": "code",
   "execution_count": 5,
   "id": "362eb779",
   "metadata": {},
   "outputs": [
    {
     "name": "stdout",
     "output_type": "stream",
     "text": [
      "{'gene_NBK1116/license.txt': [{'chunk_id': 'gene_NBK1116/license.txt_chunk1', 'content': 'Terms of Use for ca/84/gene_NBK1116.tar.gz; GeneReviews&#174;; University of Washington, Seattle; 1993; NBK1116 For each document, read the license and copyright statements in the XML or PDF files before reusing or redistributing any part of the document. The license and copyright statements define what uses of the document are permitted, and apply to all associated files, including images and supplementary material. The terms and conditions of use are not identical for all documents. If there is no license or copyright statement in the XML or PDF files, then the document is in the public domain. No permission is needed to reproduce or distribute public domain content, but the authoring institute or agency must be given appropriate attribution. Contact the publisher if you have any questions about the permissible uses of the documents. For more information, see the Bookshelf Copyright Notice (http://www.ncbi.nlm.nih.gov/books/about/copyright/).', 'mito_genes': ['PDF']}]}\n"
     ]
    }
   ],
   "source": [
    "print(gene_reviews_mito)"
   ]
  }
 ],
 "metadata": {
  "kernelspec": {
   "display_name": "cluster_analysis",
   "language": "python",
   "name": "python3"
  },
  "language_info": {
   "codemirror_mode": {
    "name": "ipython",
    "version": 3
   },
   "file_extension": ".py",
   "mimetype": "text/x-python",
   "name": "python",
   "nbconvert_exporter": "python",
   "pygments_lexer": "ipython3",
   "version": "3.12.0"
  }
 },
 "nbformat": 4,
 "nbformat_minor": 5
}
